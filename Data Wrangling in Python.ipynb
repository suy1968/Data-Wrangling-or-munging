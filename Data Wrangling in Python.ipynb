{
 "cells": [
  {
   "cell_type": "markdown",
   "id": "e31eec27",
   "metadata": {},
   "source": [
    "Data Wrangling is the process of gathering, collecting, and transforming Raw data into another format for better understanding, decision-making, accessing, and analysis in less time. Data Wrangling is also known as Data Munging."
   ]
  },
  {
   "cell_type": "markdown",
   "id": "239d6b8b",
   "metadata": {},
   "source": [
    "Data wrangling in python deals with the below functionalities:-\n",
    "\n",
    "-> Data exploration: In this process, the data is studied, analyzed and understood by visualizing representations of data.\n",
    "    \n",
    "    \n",
    "-> Dealing with missing values: Most of the datasets having a vast amount of data contain missing values of NaN, they are needed to be taken care of by replacing them with mean, mode, the most frequent value of the column or simply by dropping the row having a NaN value.\n",
    "\n",
    "    \n",
    "-> Reshaping data: In this process, data is manipulated according to the requirements, where new data can be added or pre-existing data can be modified.\n",
    "\n",
    "    \n",
    "->Filtering data: Some times datasets are comprised of unwanted rows or columns which are required to be removed or filtered"
   ]
  },
  {
   "cell_type": "code",
   "execution_count": 2,
   "id": "a078c978",
   "metadata": {},
   "outputs": [
    {
     "data": {
      "text/html": [
       "<div>\n",
       "<style scoped>\n",
       "    .dataframe tbody tr th:only-of-type {\n",
       "        vertical-align: middle;\n",
       "    }\n",
       "\n",
       "    .dataframe tbody tr th {\n",
       "        vertical-align: top;\n",
       "    }\n",
       "\n",
       "    .dataframe thead th {\n",
       "        text-align: right;\n",
       "    }\n",
       "</style>\n",
       "<table border=\"1\" class=\"dataframe\">\n",
       "  <thead>\n",
       "    <tr style=\"text-align: right;\">\n",
       "      <th></th>\n",
       "      <th>Name</th>\n",
       "      <th>Age</th>\n",
       "      <th>Gender</th>\n",
       "      <th>Marks</th>\n",
       "    </tr>\n",
       "  </thead>\n",
       "  <tbody>\n",
       "    <tr>\n",
       "      <th>0</th>\n",
       "      <td>Jai</td>\n",
       "      <td>17</td>\n",
       "      <td>M</td>\n",
       "      <td>90</td>\n",
       "    </tr>\n",
       "    <tr>\n",
       "      <th>1</th>\n",
       "      <td>Princi</td>\n",
       "      <td>17</td>\n",
       "      <td>F</td>\n",
       "      <td>76</td>\n",
       "    </tr>\n",
       "    <tr>\n",
       "      <th>2</th>\n",
       "      <td>Gaurav</td>\n",
       "      <td>18</td>\n",
       "      <td>M</td>\n",
       "      <td>NaN</td>\n",
       "    </tr>\n",
       "    <tr>\n",
       "      <th>3</th>\n",
       "      <td>Anuj</td>\n",
       "      <td>17</td>\n",
       "      <td>M</td>\n",
       "      <td>74</td>\n",
       "    </tr>\n",
       "    <tr>\n",
       "      <th>4</th>\n",
       "      <td>Ravi</td>\n",
       "      <td>18</td>\n",
       "      <td>M</td>\n",
       "      <td>65</td>\n",
       "    </tr>\n",
       "    <tr>\n",
       "      <th>5</th>\n",
       "      <td>Natasha</td>\n",
       "      <td>17</td>\n",
       "      <td>F</td>\n",
       "      <td>NaN</td>\n",
       "    </tr>\n",
       "    <tr>\n",
       "      <th>6</th>\n",
       "      <td>Riya</td>\n",
       "      <td>17</td>\n",
       "      <td>F</td>\n",
       "      <td>71</td>\n",
       "    </tr>\n",
       "  </tbody>\n",
       "</table>\n",
       "</div>"
      ],
      "text/plain": [
       "      Name  Age Gender Marks\n",
       "0      Jai   17      M    90\n",
       "1   Princi   17      F    76\n",
       "2   Gaurav   18      M   NaN\n",
       "3     Anuj   17      M    74\n",
       "4     Ravi   18      M    65\n",
       "5  Natasha   17      F   NaN\n",
       "6     Riya   17      F    71"
      ]
     },
     "execution_count": 2,
     "metadata": {},
     "output_type": "execute_result"
    }
   ],
   "source": [
    "# a) Data exploration\n",
    "#Implementations:-\n",
    "\n",
    "# Import pandas package\n",
    "import pandas as pd\n",
    "\n",
    "# Assign data\n",
    "data = {'Name': ['Jai', 'Princi', 'Gaurav',\n",
    "\t\t\t\t'Anuj', 'Ravi', 'Natasha', 'Riya'],\n",
    "\t\t'Age': [17, 17, 18, 17, 18, 17, 17],\n",
    "\t\t'Gender': ['M', 'F', 'M', 'M', 'M', 'F', 'F'],\n",
    "\t\t'Marks': [90, 76, 'NaN', 74, 65, 'NaN', 71]}\n",
    "\n",
    "# Convert into DataFrame\n",
    "df = pd.DataFrame(data)\n",
    "\n",
    "# Display data\n",
    "df"
   ]
  },
  {
   "cell_type": "code",
   "execution_count": 3,
   "id": "5aff19fd",
   "metadata": {},
   "outputs": [
    {
     "data": {
      "text/html": [
       "<div>\n",
       "<style scoped>\n",
       "    .dataframe tbody tr th:only-of-type {\n",
       "        vertical-align: middle;\n",
       "    }\n",
       "\n",
       "    .dataframe tbody tr th {\n",
       "        vertical-align: top;\n",
       "    }\n",
       "\n",
       "    .dataframe thead th {\n",
       "        text-align: right;\n",
       "    }\n",
       "</style>\n",
       "<table border=\"1\" class=\"dataframe\">\n",
       "  <thead>\n",
       "    <tr style=\"text-align: right;\">\n",
       "      <th></th>\n",
       "      <th>Name</th>\n",
       "      <th>Age</th>\n",
       "      <th>Gender</th>\n",
       "      <th>Marks</th>\n",
       "    </tr>\n",
       "  </thead>\n",
       "  <tbody>\n",
       "    <tr>\n",
       "      <th>0</th>\n",
       "      <td>Jai</td>\n",
       "      <td>17</td>\n",
       "      <td>M</td>\n",
       "      <td>90.0</td>\n",
       "    </tr>\n",
       "    <tr>\n",
       "      <th>1</th>\n",
       "      <td>Princi</td>\n",
       "      <td>17</td>\n",
       "      <td>F</td>\n",
       "      <td>76.0</td>\n",
       "    </tr>\n",
       "    <tr>\n",
       "      <th>2</th>\n",
       "      <td>Gaurav</td>\n",
       "      <td>18</td>\n",
       "      <td>M</td>\n",
       "      <td>75.2</td>\n",
       "    </tr>\n",
       "    <tr>\n",
       "      <th>3</th>\n",
       "      <td>Anuj</td>\n",
       "      <td>17</td>\n",
       "      <td>M</td>\n",
       "      <td>74.0</td>\n",
       "    </tr>\n",
       "    <tr>\n",
       "      <th>4</th>\n",
       "      <td>Ravi</td>\n",
       "      <td>18</td>\n",
       "      <td>M</td>\n",
       "      <td>65.0</td>\n",
       "    </tr>\n",
       "    <tr>\n",
       "      <th>5</th>\n",
       "      <td>Natasha</td>\n",
       "      <td>17</td>\n",
       "      <td>F</td>\n",
       "      <td>75.2</td>\n",
       "    </tr>\n",
       "    <tr>\n",
       "      <th>6</th>\n",
       "      <td>Riya</td>\n",
       "      <td>17</td>\n",
       "      <td>F</td>\n",
       "      <td>71.0</td>\n",
       "    </tr>\n",
       "  </tbody>\n",
       "</table>\n",
       "</div>"
      ],
      "text/plain": [
       "      Name  Age Gender  Marks\n",
       "0      Jai   17      M   90.0\n",
       "1   Princi   17      F   76.0\n",
       "2   Gaurav   18      M   75.2\n",
       "3     Anuj   17      M   74.0\n",
       "4     Ravi   18      M   65.0\n",
       "5  Natasha   17      F   75.2\n",
       "6     Riya   17      F   71.0"
      ]
     },
     "execution_count": 3,
     "metadata": {},
     "output_type": "execute_result"
    }
   ],
   "source": [
    "# b) Dealing with missing values(Implementation)\n",
    "# Compute average\n",
    "c = avg = 0\n",
    "for ele in df['Marks']:\n",
    "\tif str(ele).isnumeric():\n",
    "\t\tc += 1\n",
    "\t\tavg += ele\n",
    "avg /= c\n",
    "\n",
    "# Replace missing values\n",
    "df = df.replace(to_replace=\"NaN\",\n",
    "\t\t\t\tvalue=avg)\n",
    "\n",
    "# Display data\n",
    "df"
   ]
  },
  {
   "cell_type": "code",
   "execution_count": 4,
   "id": "5fe016a5",
   "metadata": {},
   "outputs": [
    {
     "data": {
      "text/html": [
       "<div>\n",
       "<style scoped>\n",
       "    .dataframe tbody tr th:only-of-type {\n",
       "        vertical-align: middle;\n",
       "    }\n",
       "\n",
       "    .dataframe tbody tr th {\n",
       "        vertical-align: top;\n",
       "    }\n",
       "\n",
       "    .dataframe thead th {\n",
       "        text-align: right;\n",
       "    }\n",
       "</style>\n",
       "<table border=\"1\" class=\"dataframe\">\n",
       "  <thead>\n",
       "    <tr style=\"text-align: right;\">\n",
       "      <th></th>\n",
       "      <th>Name</th>\n",
       "      <th>Age</th>\n",
       "      <th>Gender</th>\n",
       "      <th>Marks</th>\n",
       "    </tr>\n",
       "  </thead>\n",
       "  <tbody>\n",
       "    <tr>\n",
       "      <th>0</th>\n",
       "      <td>Jai</td>\n",
       "      <td>17</td>\n",
       "      <td>0.0</td>\n",
       "      <td>90.0</td>\n",
       "    </tr>\n",
       "    <tr>\n",
       "      <th>1</th>\n",
       "      <td>Princi</td>\n",
       "      <td>17</td>\n",
       "      <td>1.0</td>\n",
       "      <td>76.0</td>\n",
       "    </tr>\n",
       "    <tr>\n",
       "      <th>2</th>\n",
       "      <td>Gaurav</td>\n",
       "      <td>18</td>\n",
       "      <td>0.0</td>\n",
       "      <td>75.2</td>\n",
       "    </tr>\n",
       "    <tr>\n",
       "      <th>3</th>\n",
       "      <td>Anuj</td>\n",
       "      <td>17</td>\n",
       "      <td>0.0</td>\n",
       "      <td>74.0</td>\n",
       "    </tr>\n",
       "    <tr>\n",
       "      <th>4</th>\n",
       "      <td>Ravi</td>\n",
       "      <td>18</td>\n",
       "      <td>0.0</td>\n",
       "      <td>65.0</td>\n",
       "    </tr>\n",
       "    <tr>\n",
       "      <th>5</th>\n",
       "      <td>Natasha</td>\n",
       "      <td>17</td>\n",
       "      <td>1.0</td>\n",
       "      <td>75.2</td>\n",
       "    </tr>\n",
       "    <tr>\n",
       "      <th>6</th>\n",
       "      <td>Riya</td>\n",
       "      <td>17</td>\n",
       "      <td>1.0</td>\n",
       "      <td>71.0</td>\n",
       "    </tr>\n",
       "  </tbody>\n",
       "</table>\n",
       "</div>"
      ],
      "text/plain": [
       "      Name  Age  Gender  Marks\n",
       "0      Jai   17     0.0   90.0\n",
       "1   Princi   17     1.0   76.0\n",
       "2   Gaurav   18     0.0   75.2\n",
       "3     Anuj   17     0.0   74.0\n",
       "4     Ravi   18     0.0   65.0\n",
       "5  Natasha   17     1.0   75.2\n",
       "6     Riya   17     1.0   71.0"
      ]
     },
     "execution_count": 4,
     "metadata": {},
     "output_type": "execute_result"
    }
   ],
   "source": [
    "#C)Reshaping data\n",
    "\n",
    "# Categorize gender\n",
    "df['Gender'] = df['Gender'].map({'M': 0,\n",
    "\t\t\t\t\t\t\t\t'F': 1, }).astype(float)\n",
    "\n",
    "# Display data\n",
    "df\n",
    "\n"
   ]
  },
  {
   "cell_type": "code",
   "execution_count": 5,
   "id": "1a4b2544",
   "metadata": {},
   "outputs": [
    {
     "data": {
      "text/html": [
       "<div>\n",
       "<style scoped>\n",
       "    .dataframe tbody tr th:only-of-type {\n",
       "        vertical-align: middle;\n",
       "    }\n",
       "\n",
       "    .dataframe tbody tr th {\n",
       "        vertical-align: top;\n",
       "    }\n",
       "\n",
       "    .dataframe thead th {\n",
       "        text-align: right;\n",
       "    }\n",
       "</style>\n",
       "<table border=\"1\" class=\"dataframe\">\n",
       "  <thead>\n",
       "    <tr style=\"text-align: right;\">\n",
       "      <th></th>\n",
       "      <th>Name</th>\n",
       "      <th>Gender</th>\n",
       "      <th>Marks</th>\n",
       "    </tr>\n",
       "  </thead>\n",
       "  <tbody>\n",
       "    <tr>\n",
       "      <th>0</th>\n",
       "      <td>Jai</td>\n",
       "      <td>0.0</td>\n",
       "      <td>90.0</td>\n",
       "    </tr>\n",
       "    <tr>\n",
       "      <th>1</th>\n",
       "      <td>Princi</td>\n",
       "      <td>1.0</td>\n",
       "      <td>76.0</td>\n",
       "    </tr>\n",
       "    <tr>\n",
       "      <th>2</th>\n",
       "      <td>Gaurav</td>\n",
       "      <td>0.0</td>\n",
       "      <td>75.2</td>\n",
       "    </tr>\n",
       "    <tr>\n",
       "      <th>5</th>\n",
       "      <td>Natasha</td>\n",
       "      <td>1.0</td>\n",
       "      <td>75.2</td>\n",
       "    </tr>\n",
       "  </tbody>\n",
       "</table>\n",
       "</div>"
      ],
      "text/plain": [
       "      Name  Gender  Marks\n",
       "0      Jai     0.0   90.0\n",
       "1   Princi     1.0   76.0\n",
       "2   Gaurav     0.0   75.2\n",
       "5  Natasha     1.0   75.2"
      ]
     },
     "execution_count": 5,
     "metadata": {},
     "output_type": "execute_result"
    }
   ],
   "source": [
    "#D) Filtering data\n",
    "\n",
    "# Filter top scoring students\n",
    "df = df[df['Marks'] >= 75]\n",
    "\n",
    "# Remove age row\n",
    "df = df.drop(['Age'], axis=1)\n",
    "\n",
    "# Display data\n",
    "df\n"
   ]
  },
  {
   "cell_type": "markdown",
   "id": "b2044329",
   "metadata": {},
   "source": [
    "# Wrangling Data Using Merge Operation"
   ]
  },
  {
   "cell_type": "markdown",
   "id": "826747ee",
   "metadata": {},
   "source": [
    "QUESTION:-  Suppose that a Teacher has two types of Data, first type of Data consist of Details of Students and Second type of Data Consist of Pending Fees Status which is taken from Account Office. So The Teacher will use merge operation here in order to merge the data and provide it meaning. So that teacher will analyze it easily and it also reduces time and effort of Teacher from Manual Merging.\n"
   ]
  },
  {
   "cell_type": "code",
   "execution_count": 6,
   "id": "1ad9e0fb",
   "metadata": {},
   "outputs": [
    {
     "name": "stdout",
     "output_type": "stream",
     "text": [
      "    ID     NAME BRANCH\n",
      "0  101  Jagroop    CSE\n",
      "1  102  Praveen    CSE\n",
      "2  103   Harjot    CSE\n",
      "3  104    Pooja    CSE\n",
      "4  105    Rahul    CSE\n",
      "5  106   Nikita    CSE\n",
      "6  107  Saurabh    CSE\n",
      "7  108    Ayush    CSE\n",
      "8  109    Dolly    CSE\n",
      "9  110    Mohit    CSE\n"
     ]
    }
   ],
   "source": [
    "#FIRST TYPE OF DATA\n",
    "\n",
    "\n",
    "# import module\n",
    "import pandas as pd\n",
    "\n",
    "# creating DataFrame for Student Details\n",
    "details = pd.DataFrame({\n",
    "\t'ID': [101, 102, 103, 104, 105, 106,\n",
    "\t\t107, 108, 109, 110],\n",
    "\t'NAME': ['Jagroop', 'Praveen', 'Harjot',\n",
    "\t\t\t'Pooja', 'Rahul', 'Nikita',\n",
    "\t\t\t'Saurabh', 'Ayush', 'Dolly', \"Mohit\"],\n",
    "\t'BRANCH': ['CSE', 'CSE', 'CSE', 'CSE', 'CSE',\n",
    "\t\t\t'CSE', 'CSE', 'CSE', 'CSE', 'CSE']})\n",
    "\n",
    "# printing details\n",
    "print(details)\n"
   ]
  },
  {
   "cell_type": "code",
   "execution_count": 7,
   "id": "5ee4174f",
   "metadata": {},
   "outputs": [
    {
     "name": "stdout",
     "output_type": "stream",
     "text": [
      "    ID PENDING\n",
      "0  101    5000\n",
      "1  102     250\n",
      "2  103     NIL\n",
      "3  104    9000\n",
      "4  105   15000\n",
      "5  106     NIL\n",
      "6  107    4500\n",
      "7  108    1800\n",
      "8  109     250\n",
      "9  110     NIL\n"
     ]
    }
   ],
   "source": [
    "#SECOND DATA TYPE\n",
    "\n",
    "# Import module\n",
    "import pandas as pd\n",
    "\n",
    "# Creating Dataframe for Fees_Status\n",
    "fees_status = pd.DataFrame(\n",
    "\t{'ID': [101, 102, 103, 104, 105,\n",
    "\t\t\t106, 107, 108, 109, 110],\n",
    "\t'PENDING': ['5000', '250', 'NIL',\n",
    "\t\t\t\t'9000', '15000', 'NIL',\n",
    "\t\t\t\t'4500', '1800', '250', 'NIL']})\n",
    "\n",
    "# Printing fees_status\n",
    "print(fees_status)\n"
   ]
  },
  {
   "cell_type": "code",
   "execution_count": 8,
   "id": "c232778c",
   "metadata": {},
   "outputs": [
    {
     "name": "stdout",
     "output_type": "stream",
     "text": [
      "    ID     NAME BRANCH PENDING\n",
      "0  101  Jagroop    CSE    5000\n",
      "1  102  Praveen    CSE     250\n",
      "2  103   Harjot    CSE     NIL\n",
      "3  104    Pooja    CSE    9000\n",
      "4  105    Rahul    CSE   15000\n",
      "5  106   Nikita    CSE     NIL\n",
      "6  107  Saurabh    CSE    4500\n",
      "7  108    Ayush    CSE    1800\n",
      "8  109    Dolly    CSE     250\n",
      "9  110    Mohit    CSE     NIL\n"
     ]
    }
   ],
   "source": [
    "#WRANGLING DATA USING MERGE OPERATION:\n",
    "# Import module\n",
    "import pandas as pd\n",
    "\n",
    "# Creating Dataframe\n",
    "details = pd.DataFrame({\n",
    "\t'ID': [101, 102, 103, 104, 105,\n",
    "\t\t106, 107, 108, 109, 110],\n",
    "\t'NAME': ['Jagroop', 'Praveen', 'Harjot',\n",
    "\t\t\t'Pooja', 'Rahul', 'Nikita',\n",
    "\t\t\t'Saurabh', 'Ayush', 'Dolly', \"Mohit\"],\n",
    "\t'BRANCH': ['CSE', 'CSE', 'CSE', 'CSE', 'CSE',\n",
    "\t\t\t'CSE', 'CSE', 'CSE', 'CSE', 'CSE']})\n",
    "\n",
    "# Creating Dataframe\n",
    "fees_status = pd.DataFrame(\n",
    "\t{'ID': [101, 102, 103, 104, 105,\n",
    "\t\t\t106, 107, 108, 109, 110],\n",
    "\t'PENDING': ['5000', '250', 'NIL',\n",
    "\t\t\t\t'9000', '15000', 'NIL',\n",
    "\t\t\t\t'4500', '1800', '250', 'NIL']})\n",
    "\n",
    "# Merging Dataframe\n",
    "print(pd.merge(details, fees_status, on='ID'))\n"
   ]
  },
  {
   "cell_type": "markdown",
   "id": "f2824671",
   "metadata": {},
   "source": [
    "# Wrangling Data using Grouping Method "
   ]
  },
  {
   "cell_type": "markdown",
   "id": "6f4d9b6d",
   "metadata": {},
   "source": [
    "QUESTIONS:- There is a Car Selling company and this company have different Brands of various Car Manufacturing Company like Maruti, Toyota, Mahindra, Ford, etc. and have data where different cars are sold in different years. So the Company wants to wrangle only that data where cars are sold during the year 2010. For this problem, we use another Wrangling technique that is groupby() method."
   ]
  },
  {
   "cell_type": "code",
   "execution_count": 9,
   "id": "fd9746a6",
   "metadata": {},
   "outputs": [
    {
     "name": "stdout",
     "output_type": "stream",
     "text": [
      "       Brand  Year  Sold\n",
      "0     Maruti  2010     6\n",
      "1     Maruti  2011     7\n",
      "2     Maruti  2009     9\n",
      "3     Maruti  2013     8\n",
      "4    Hyundai  2010     3\n",
      "5    Hyundai  2011     5\n",
      "6     Toyota  2011     2\n",
      "7   Mahindra  2010     8\n",
      "8   Mahindra  2013     7\n",
      "9       Ford  2010     2\n",
      "10    Toyota  2010     4\n",
      "11      Ford  2011     2\n"
     ]
    }
   ],
   "source": [
    "#CAR SELLING DATA\n",
    "\n",
    "# Import module\n",
    "import pandas as pd\n",
    "\n",
    "# Creating Data\n",
    "car_selling_data = {'Brand': ['Maruti', 'Maruti', 'Maruti',\n",
    "\t\t\t\t\t\t\t'Maruti', 'Hyundai', 'Hyundai',\n",
    "\t\t\t\t\t\t\t'Toyota', 'Mahindra', 'Mahindra',\n",
    "\t\t\t\t\t\t\t'Ford', 'Toyota', 'Ford'],\n",
    "\t\t\t\t\t'Year': [2010, 2011, 2009, 2013,\n",
    "\t\t\t\t\t\t\t2010, 2011, 2011, 2010,\n",
    "\t\t\t\t\t\t\t2013, 2010, 2010, 2011],\n",
    "\t\t\t\t\t'Sold': [6, 7, 9, 8, 3, 5,\n",
    "\t\t\t\t\t\t\t2, 8, 7, 2, 4, 2]}\n",
    "\n",
    "# Creating Dataframe of car_selling_data\n",
    "df = pd.DataFrame(car_selling_data)\n",
    "\n",
    "# printing Dataframe\n",
    "print(df)\n"
   ]
  },
  {
   "cell_type": "code",
   "execution_count": 10,
   "id": "e88c6bae",
   "metadata": {},
   "outputs": [
    {
     "name": "stdout",
     "output_type": "stream",
     "text": [
      "       Brand  Year  Sold\n",
      "0     Maruti  2010     6\n",
      "4    Hyundai  2010     3\n",
      "7   Mahindra  2010     8\n",
      "9       Ford  2010     2\n",
      "10    Toyota  2010     4\n"
     ]
    }
   ],
   "source": [
    "#DATA OF THE YEAR 2010:\n",
    "\n",
    "# Import module\n",
    "import pandas as pd\n",
    "\n",
    "# Creating Data\n",
    "car_selling_data = {'Brand': ['Maruti', 'Maruti', 'Maruti',\n",
    "\t\t\t\t\t\t\t'Maruti', 'Hyundai', 'Hyundai',\n",
    "\t\t\t\t\t\t\t'Toyota', 'Mahindra', 'Mahindra',\n",
    "\t\t\t\t\t\t\t'Ford', 'Toyota', 'Ford'],\n",
    "\t\t\t\t\t'Year': [2010, 2011, 2009, 2013,\n",
    "\t\t\t\t\t\t\t2010, 2011, 2011, 2010,\n",
    "\t\t\t\t\t\t\t2013, 2010, 2010, 2011],\n",
    "\t\t\t\t\t'Sold': [6, 7, 9, 8, 3, 5,\n",
    "\t\t\t\t\t\t\t2, 8, 7, 2, 4, 2]}\n",
    "\n",
    "# Creating Dataframe for Provided Data\n",
    "df = pd.DataFrame(car_selling_data)\n",
    "\n",
    "# Group the data when year = 2010\n",
    "grouped = df.groupby('Year')\n",
    "print(grouped.get_group(2010))\n"
   ]
  },
  {
   "cell_type": "markdown",
   "id": "4d09a226",
   "metadata": {},
   "source": [
    "# Wrangling data by removing Duplication"
   ]
  },
  {
   "cell_type": "markdown",
   "id": "19e0a243",
   "metadata": {},
   "source": [
    "QUESTIONS:- A University will organize the event. In order to participate Students have to fill their details in the online form so that they will contact them. It may be possible that a student will fill the form multiple time. It may cause difficulty for the event organizer if a single student will fill multiple entries. The Data that the organizers will get can be Easily Wrangles by removing duplicate values."
   ]
  },
  {
   "cell_type": "code",
   "execution_count": 11,
   "id": "f83e1ae4",
   "metadata": {},
   "outputs": [
    {
     "name": "stdout",
     "output_type": "stream",
     "text": [
      "        Name  Roll_no                 Email\n",
      "0       Amit       23        xxxx@gmail.com\n",
      "1    Praveen       54      xxxxxx@gmail.com\n",
      "2    Jagroop       29      xxxxxx@gmail.com\n",
      "3      Rahul       36          xx@gmail.com\n",
      "4     Vishal       59        xxxx@gmail.com\n",
      "5      Suraj       38       xxxxx@gmail.com\n",
      "6     Rishab       12       xxxxx@gmail.com\n",
      "7   Satyapal       45       xxxxx@gmail.com\n",
      "8       Amit       34       xxxxx@gmail.com\n",
      "9      Rahul       36      xxxxxx@gmail.com\n",
      "10   Praveen       54  xxxxxxxxxx@gmail.com\n",
      "11      Amit       23  xxxxxxxxxx@gmail.com\n"
     ]
    }
   ],
   "source": [
    "#DETAILS STUDENTS DATA WHO WANT TO PARTICIPATE IN THE EVENT:\n",
    "\n",
    "\n",
    "# Import module\n",
    "import pandas as pd\n",
    "\n",
    "# Initializing Data\n",
    "student_data = {'Name': ['Amit', 'Praveen', 'Jagroop',\n",
    "\t\t\t\t\t\t'Rahul', 'Vishal', 'Suraj',\n",
    "\t\t\t\t\t\t'Rishab', 'Satyapal', 'Amit',\n",
    "\t\t\t\t\t\t'Rahul', 'Praveen', 'Amit'],\n",
    "\n",
    "\t\t\t\t'Roll_no': [23, 54, 29, 36, 59, 38,\n",
    "\t\t\t\t\t\t\t12, 45, 34, 36, 54, 23],\n",
    "\n",
    "\t\t\t\t'Email': ['xxxx@gmail.com', 'xxxxxx@gmail.com',\n",
    "\t\t\t\t\t\t'xxxxxx@gmail.com', 'xx@gmail.com',\n",
    "\t\t\t\t\t\t'xxxx@gmail.com', 'xxxxx@gmail.com',\n",
    "\t\t\t\t\t\t'xxxxx@gmail.com', 'xxxxx@gmail.com',\n",
    "\t\t\t\t\t\t'xxxxx@gmail.com', 'xxxxxx@gmail.com',\n",
    "\t\t\t\t\t\t'xxxxxxxxxx@gmail.com', 'xxxxxxxxxx@gmail.com']}\n",
    "\n",
    "# Creating Dataframe of Data\n",
    "df = pd.DataFrame(student_data)\n",
    "\n",
    "# Printing Dataframe\n",
    "print(df)\n"
   ]
  },
  {
   "cell_type": "code",
   "execution_count": 12,
   "id": "34b50598",
   "metadata": {},
   "outputs": [
    {
     "name": "stdout",
     "output_type": "stream",
     "text": [
      "       Name  Roll_no             Email\n",
      "0      Amit       23    xxxx@gmail.com\n",
      "1   Praveen       54  xxxxxx@gmail.com\n",
      "2   Jagroop       29  xxxxxx@gmail.com\n",
      "3     Rahul       36      xx@gmail.com\n",
      "4    Vishal       59    xxxx@gmail.com\n",
      "5     Suraj       38   xxxxx@gmail.com\n",
      "6    Rishab       12   xxxxx@gmail.com\n",
      "7  Satyapal       45   xxxxx@gmail.com\n",
      "8      Amit       34   xxxxx@gmail.com\n"
     ]
    }
   ],
   "source": [
    "#DATA WRANGLED BY REMOVING DUPLICATE ENTRIES:\n",
    "\n",
    "# import module\n",
    "import pandas as pd\n",
    "\n",
    "# initializing Data\n",
    "student_data = {'Name': ['Amit', 'Praveen', 'Jagroop',\n",
    "\t\t\t\t\t\t'Rahul', 'Vishal', 'Suraj',\n",
    "\t\t\t\t\t\t'Rishab', 'Satyapal', 'Amit',\n",
    "\t\t\t\t\t\t'Rahul', 'Praveen', 'Amit'],\n",
    "\n",
    "\t\t\t\t'Roll_no': [23, 54, 29, 36, 59, 38,\n",
    "\t\t\t\t\t\t\t12, 45, 34, 36, 54, 23],\n",
    "\t\t\t\t'Email': ['xxxx@gmail.com', 'xxxxxx@gmail.com',\n",
    "\t\t\t\t\t\t'xxxxxx@gmail.com', 'xx@gmail.com',\n",
    "\t\t\t\t\t\t'xxxx@gmail.com', 'xxxxx@gmail.com',\n",
    "\t\t\t\t\t\t'xxxxx@gmail.com', 'xxxxx@gmail.com',\n",
    "\t\t\t\t\t\t'xxxxx@gmail.com', 'xxxxxx@gmail.com',\n",
    "\t\t\t\t\t\t'xxxxxxxxxx@gmail.com', 'xxxxxxxxxx@gmail.com']}\n",
    "\n",
    "# creating dataframe\n",
    "df = pd.DataFrame(student_data)\n",
    "\n",
    "# Here df.duplicated() list duplicate Entries in ROllno.\n",
    "# So that ~(NOT) is placed in order to get non duplicate values.\n",
    "non_duplicate = df[~df.duplicated('Roll_no')]\n",
    "\n",
    "# printing non-duplicate values\n",
    "print(non_duplicate)\n"
   ]
  },
  {
   "cell_type": "markdown",
   "id": "c077e5b0",
   "metadata": {},
   "source": [
    "# 2ND PART:-"
   ]
  },
  {
   "cell_type": "code",
   "execution_count": 1,
   "id": "aee807b0",
   "metadata": {},
   "outputs": [],
   "source": [
    "import numpy as np\n",
    "import pandas as pd"
   ]
  },
  {
   "cell_type": "code",
   "execution_count": 2,
   "id": "ab0058d5",
   "metadata": {},
   "outputs": [],
   "source": [
    "# Create a DataFrame with some randomized columns\n",
    "df = pd.DataFrame({\n",
    "    \"str_feature\": [np.random.choice([\"dog\", \"cat\", \"snake\"]) for _ in range(10000)],\n",
    "    \"int_feature\": np.arange(10000)\n",
    "})"
   ]
  },
  {
   "cell_type": "code",
   "execution_count": 3,
   "id": "5c3e372b",
   "metadata": {},
   "outputs": [
    {
     "data": {
      "text/html": [
       "<div>\n",
       "<style scoped>\n",
       "    .dataframe tbody tr th:only-of-type {\n",
       "        vertical-align: middle;\n",
       "    }\n",
       "\n",
       "    .dataframe tbody tr th {\n",
       "        vertical-align: top;\n",
       "    }\n",
       "\n",
       "    .dataframe thead th {\n",
       "        text-align: right;\n",
       "    }\n",
       "</style>\n",
       "<table border=\"1\" class=\"dataframe\">\n",
       "  <thead>\n",
       "    <tr style=\"text-align: right;\">\n",
       "      <th></th>\n",
       "      <th>str_feature</th>\n",
       "      <th>int_feature</th>\n",
       "    </tr>\n",
       "  </thead>\n",
       "  <tbody>\n",
       "    <tr>\n",
       "      <th>0</th>\n",
       "      <td>cat</td>\n",
       "      <td>0</td>\n",
       "    </tr>\n",
       "    <tr>\n",
       "      <th>1</th>\n",
       "      <td>snake</td>\n",
       "      <td>1</td>\n",
       "    </tr>\n",
       "    <tr>\n",
       "      <th>2</th>\n",
       "      <td>cat</td>\n",
       "      <td>2</td>\n",
       "    </tr>\n",
       "  </tbody>\n",
       "</table>\n",
       "</div>"
      ],
      "text/plain": [
       "  str_feature  int_feature\n",
       "0         cat            0\n",
       "1       snake            1\n",
       "2         cat            2"
      ]
     },
     "execution_count": 3,
     "metadata": {},
     "output_type": "execute_result"
    }
   ],
   "source": [
    "df.head(3)"
   ]
  },
  {
   "cell_type": "code",
   "execution_count": 4,
   "id": "b487f77a",
   "metadata": {},
   "outputs": [
    {
     "data": {
      "text/html": [
       "<div>\n",
       "<style scoped>\n",
       "    .dataframe tbody tr th:only-of-type {\n",
       "        vertical-align: middle;\n",
       "    }\n",
       "\n",
       "    .dataframe tbody tr th {\n",
       "        vertical-align: top;\n",
       "    }\n",
       "\n",
       "    .dataframe thead th {\n",
       "        text-align: right;\n",
       "    }\n",
       "</style>\n",
       "<table border=\"1\" class=\"dataframe\">\n",
       "  <thead>\n",
       "    <tr style=\"text-align: right;\">\n",
       "      <th></th>\n",
       "      <th>str_feature</th>\n",
       "      <th>int_feature</th>\n",
       "    </tr>\n",
       "  </thead>\n",
       "  <tbody>\n",
       "    <tr>\n",
       "      <th>9992</th>\n",
       "      <td>cat</td>\n",
       "      <td>9992</td>\n",
       "    </tr>\n",
       "    <tr>\n",
       "      <th>9993</th>\n",
       "      <td>snake</td>\n",
       "      <td>9993</td>\n",
       "    </tr>\n",
       "    <tr>\n",
       "      <th>9994</th>\n",
       "      <td>cat</td>\n",
       "      <td>9994</td>\n",
       "    </tr>\n",
       "    <tr>\n",
       "      <th>9995</th>\n",
       "      <td>dog</td>\n",
       "      <td>9995</td>\n",
       "    </tr>\n",
       "    <tr>\n",
       "      <th>9996</th>\n",
       "      <td>dog</td>\n",
       "      <td>9996</td>\n",
       "    </tr>\n",
       "    <tr>\n",
       "      <th>9997</th>\n",
       "      <td>dog</td>\n",
       "      <td>9997</td>\n",
       "    </tr>\n",
       "    <tr>\n",
       "      <th>9998</th>\n",
       "      <td>cat</td>\n",
       "      <td>9998</td>\n",
       "    </tr>\n",
       "    <tr>\n",
       "      <th>9999</th>\n",
       "      <td>snake</td>\n",
       "      <td>9999</td>\n",
       "    </tr>\n",
       "  </tbody>\n",
       "</table>\n",
       "</div>"
      ],
      "text/plain": [
       "     str_feature  int_feature\n",
       "9992         cat         9992\n",
       "9993       snake         9993\n",
       "9994         cat         9994\n",
       "9995         dog         9995\n",
       "9996         dog         9996\n",
       "9997         dog         9997\n",
       "9998         cat         9998\n",
       "9999       snake         9999"
      ]
     },
     "execution_count": 4,
     "metadata": {},
     "output_type": "execute_result"
    }
   ],
   "source": [
    "df.tail(8)"
   ]
  },
  {
   "cell_type": "code",
   "execution_count": 5,
   "id": "f0ed4abf",
   "metadata": {},
   "outputs": [
    {
     "data": {
      "text/html": [
       "<div>\n",
       "<style scoped>\n",
       "    .dataframe tbody tr th:only-of-type {\n",
       "        vertical-align: middle;\n",
       "    }\n",
       "\n",
       "    .dataframe tbody tr th {\n",
       "        vertical-align: top;\n",
       "    }\n",
       "\n",
       "    .dataframe thead th {\n",
       "        text-align: right;\n",
       "    }\n",
       "</style>\n",
       "<table border=\"1\" class=\"dataframe\">\n",
       "  <thead>\n",
       "    <tr style=\"text-align: right;\">\n",
       "      <th></th>\n",
       "      <th>str_feature</th>\n",
       "      <th>int_feature</th>\n",
       "    </tr>\n",
       "  </thead>\n",
       "  <tbody>\n",
       "    <tr>\n",
       "      <th>281</th>\n",
       "      <td>dog</td>\n",
       "      <td>281</td>\n",
       "    </tr>\n",
       "    <tr>\n",
       "      <th>2214</th>\n",
       "      <td>dog</td>\n",
       "      <td>2214</td>\n",
       "    </tr>\n",
       "    <tr>\n",
       "      <th>6007</th>\n",
       "      <td>snake</td>\n",
       "      <td>6007</td>\n",
       "    </tr>\n",
       "    <tr>\n",
       "      <th>4228</th>\n",
       "      <td>dog</td>\n",
       "      <td>4228</td>\n",
       "    </tr>\n",
       "    <tr>\n",
       "      <th>2463</th>\n",
       "      <td>cat</td>\n",
       "      <td>2463</td>\n",
       "    </tr>\n",
       "    <tr>\n",
       "      <th>4912</th>\n",
       "      <td>snake</td>\n",
       "      <td>4912</td>\n",
       "    </tr>\n",
       "    <tr>\n",
       "      <th>9560</th>\n",
       "      <td>snake</td>\n",
       "      <td>9560</td>\n",
       "    </tr>\n",
       "  </tbody>\n",
       "</table>\n",
       "</div>"
      ],
      "text/plain": [
       "     str_feature  int_feature\n",
       "281          dog          281\n",
       "2214         dog         2214\n",
       "6007       snake         6007\n",
       "4228         dog         4228\n",
       "2463         cat         2463\n",
       "4912       snake         4912\n",
       "9560       snake         9560"
      ]
     },
     "execution_count": 5,
     "metadata": {},
     "output_type": "execute_result"
    }
   ],
   "source": [
    "df.sample(7)"
   ]
  },
  {
   "cell_type": "code",
   "execution_count": 6,
   "id": "61700555",
   "metadata": {},
   "outputs": [
    {
     "data": {
      "text/plain": [
       "(10000, 2)"
      ]
     },
     "execution_count": 6,
     "metadata": {},
     "output_type": "execute_result"
    }
   ],
   "source": [
    "df.shape"
   ]
  },
  {
   "cell_type": "code",
   "execution_count": 7,
   "id": "63dc488e",
   "metadata": {},
   "outputs": [
    {
     "data": {
      "text/plain": [
       "str_feature    object\n",
       "int_feature     int32\n",
       "dtype: object"
      ]
     },
     "execution_count": 7,
     "metadata": {},
     "output_type": "execute_result"
    }
   ],
   "source": [
    "df.dtypes"
   ]
  },
  {
   "cell_type": "code",
   "execution_count": 8,
   "id": "b6352426",
   "metadata": {},
   "outputs": [
    {
     "data": {
      "text/plain": [
       "Index(['str_feature', 'int_feature'], dtype='object')"
      ]
     },
     "execution_count": 8,
     "metadata": {},
     "output_type": "execute_result"
    }
   ],
   "source": [
    "df.columns"
   ]
  },
  {
   "cell_type": "code",
   "execution_count": 10,
   "id": "63bdb534",
   "metadata": {},
   "outputs": [
    {
     "data": {
      "text/plain": [
       "20000"
      ]
     },
     "execution_count": 10,
     "metadata": {},
     "output_type": "execute_result"
    }
   ],
   "source": [
    "df.size"
   ]
  },
  {
   "cell_type": "code",
   "execution_count": 11,
   "id": "0583ba8a",
   "metadata": {},
   "outputs": [
    {
     "data": {
      "text/html": [
       "<div>\n",
       "<style scoped>\n",
       "    .dataframe tbody tr th:only-of-type {\n",
       "        vertical-align: middle;\n",
       "    }\n",
       "\n",
       "    .dataframe tbody tr th {\n",
       "        vertical-align: top;\n",
       "    }\n",
       "\n",
       "    .dataframe thead th {\n",
       "        text-align: right;\n",
       "    }\n",
       "</style>\n",
       "<table border=\"1\" class=\"dataframe\">\n",
       "  <thead>\n",
       "    <tr style=\"text-align: right;\">\n",
       "      <th></th>\n",
       "      <th>int_feature</th>\n",
       "    </tr>\n",
       "  </thead>\n",
       "  <tbody>\n",
       "    <tr>\n",
       "      <th>count</th>\n",
       "      <td>10000.00000</td>\n",
       "    </tr>\n",
       "    <tr>\n",
       "      <th>mean</th>\n",
       "      <td>4999.50000</td>\n",
       "    </tr>\n",
       "    <tr>\n",
       "      <th>std</th>\n",
       "      <td>2886.89568</td>\n",
       "    </tr>\n",
       "    <tr>\n",
       "      <th>min</th>\n",
       "      <td>0.00000</td>\n",
       "    </tr>\n",
       "    <tr>\n",
       "      <th>25%</th>\n",
       "      <td>2499.75000</td>\n",
       "    </tr>\n",
       "    <tr>\n",
       "      <th>50%</th>\n",
       "      <td>4999.50000</td>\n",
       "    </tr>\n",
       "    <tr>\n",
       "      <th>75%</th>\n",
       "      <td>7499.25000</td>\n",
       "    </tr>\n",
       "    <tr>\n",
       "      <th>max</th>\n",
       "      <td>9999.00000</td>\n",
       "    </tr>\n",
       "  </tbody>\n",
       "</table>\n",
       "</div>"
      ],
      "text/plain": [
       "       int_feature\n",
       "count  10000.00000\n",
       "mean    4999.50000\n",
       "std     2886.89568\n",
       "min        0.00000\n",
       "25%     2499.75000\n",
       "50%     4999.50000\n",
       "75%     7499.25000\n",
       "max     9999.00000"
      ]
     },
     "execution_count": 11,
     "metadata": {},
     "output_type": "execute_result"
    }
   ],
   "source": [
    "df.describe()"
   ]
  },
  {
   "cell_type": "code",
   "execution_count": 12,
   "id": "f70bcabb",
   "metadata": {},
   "outputs": [
    {
     "name": "stdout",
     "output_type": "stream",
     "text": [
      "<class 'pandas.core.frame.DataFrame'>\n",
      "RangeIndex: 10000 entries, 0 to 9999\n",
      "Data columns (total 2 columns):\n",
      " #   Column       Non-Null Count  Dtype \n",
      "---  ------       --------------  ----- \n",
      " 0   str_feature  10000 non-null  object\n",
      " 1   int_feature  10000 non-null  int32 \n",
      "dtypes: int32(1), object(1)\n",
      "memory usage: 117.3+ KB\n"
     ]
    }
   ],
   "source": [
    "df.info()"
   ]
  },
  {
   "cell_type": "code",
   "execution_count": 13,
   "id": "04c3c96f",
   "metadata": {},
   "outputs": [
    {
     "data": {
      "text/html": [
       "<div>\n",
       "<style scoped>\n",
       "    .dataframe tbody tr th:only-of-type {\n",
       "        vertical-align: middle;\n",
       "    }\n",
       "\n",
       "    .dataframe tbody tr th {\n",
       "        vertical-align: top;\n",
       "    }\n",
       "\n",
       "    .dataframe thead th {\n",
       "        text-align: right;\n",
       "    }\n",
       "</style>\n",
       "<table border=\"1\" class=\"dataframe\">\n",
       "  <thead>\n",
       "    <tr style=\"text-align: right;\">\n",
       "      <th></th>\n",
       "      <th>str_feature</th>\n",
       "      <th>int_feature</th>\n",
       "    </tr>\n",
       "  </thead>\n",
       "  <tbody>\n",
       "    <tr>\n",
       "      <th>1</th>\n",
       "      <td>snake</td>\n",
       "      <td>1</td>\n",
       "    </tr>\n",
       "    <tr>\n",
       "      <th>3</th>\n",
       "      <td>snake</td>\n",
       "      <td>3</td>\n",
       "    </tr>\n",
       "    <tr>\n",
       "      <th>4</th>\n",
       "      <td>snake</td>\n",
       "      <td>4</td>\n",
       "    </tr>\n",
       "    <tr>\n",
       "      <th>5</th>\n",
       "      <td>snake</td>\n",
       "      <td>5</td>\n",
       "    </tr>\n",
       "    <tr>\n",
       "      <th>13</th>\n",
       "      <td>snake</td>\n",
       "      <td>13</td>\n",
       "    </tr>\n",
       "  </tbody>\n",
       "</table>\n",
       "</div>"
      ],
      "text/plain": [
       "   str_feature  int_feature\n",
       "1        snake            1\n",
       "3        snake            3\n",
       "4        snake            4\n",
       "5        snake            5\n",
       "13       snake           13"
      ]
     },
     "execution_count": 13,
     "metadata": {},
     "output_type": "execute_result"
    }
   ],
   "source": [
    "df[df['str_feature'] == 'snake'].head()"
   ]
  },
  {
   "cell_type": "code",
   "execution_count": 14,
   "id": "7613a997",
   "metadata": {},
   "outputs": [
    {
     "data": {
      "text/html": [
       "<div>\n",
       "<style scoped>\n",
       "    .dataframe tbody tr th:only-of-type {\n",
       "        vertical-align: middle;\n",
       "    }\n",
       "\n",
       "    .dataframe tbody tr th {\n",
       "        vertical-align: top;\n",
       "    }\n",
       "\n",
       "    .dataframe thead th {\n",
       "        text-align: right;\n",
       "    }\n",
       "</style>\n",
       "<table border=\"1\" class=\"dataframe\">\n",
       "  <thead>\n",
       "    <tr style=\"text-align: right;\">\n",
       "      <th></th>\n",
       "      <th>str_feature</th>\n",
       "      <th>int_feature</th>\n",
       "    </tr>\n",
       "  </thead>\n",
       "  <tbody>\n",
       "    <tr>\n",
       "      <th>0</th>\n",
       "      <td>cat</td>\n",
       "      <td>0</td>\n",
       "    </tr>\n",
       "    <tr>\n",
       "      <th>1</th>\n",
       "      <td>snake</td>\n",
       "      <td>1</td>\n",
       "    </tr>\n",
       "    <tr>\n",
       "      <th>2</th>\n",
       "      <td>cat</td>\n",
       "      <td>2</td>\n",
       "    </tr>\n",
       "    <tr>\n",
       "      <th>3</th>\n",
       "      <td>snake</td>\n",
       "      <td>3</td>\n",
       "    </tr>\n",
       "    <tr>\n",
       "      <th>4</th>\n",
       "      <td>snake</td>\n",
       "      <td>4</td>\n",
       "    </tr>\n",
       "  </tbody>\n",
       "</table>\n",
       "</div>"
      ],
      "text/plain": [
       "  str_feature  int_feature\n",
       "0         cat            0\n",
       "1       snake            1\n",
       "2         cat            2\n",
       "3       snake            3\n",
       "4       snake            4"
      ]
     },
     "execution_count": 14,
     "metadata": {},
     "output_type": "execute_result"
    }
   ],
   "source": [
    "df.iloc[0:5]"
   ]
  },
  {
   "cell_type": "code",
   "execution_count": 15,
   "id": "3fe9b0a4",
   "metadata": {},
   "outputs": [
    {
     "data": {
      "text/html": [
       "<div>\n",
       "<style scoped>\n",
       "    .dataframe tbody tr th:only-of-type {\n",
       "        vertical-align: middle;\n",
       "    }\n",
       "\n",
       "    .dataframe tbody tr th {\n",
       "        vertical-align: top;\n",
       "    }\n",
       "\n",
       "    .dataframe thead th {\n",
       "        text-align: right;\n",
       "    }\n",
       "</style>\n",
       "<table border=\"1\" class=\"dataframe\">\n",
       "  <thead>\n",
       "    <tr style=\"text-align: right;\">\n",
       "      <th></th>\n",
       "      <th>str_feature</th>\n",
       "      <th>int_feature</th>\n",
       "    </tr>\n",
       "  </thead>\n",
       "  <tbody>\n",
       "    <tr>\n",
       "      <th>0</th>\n",
       "      <td>cat</td>\n",
       "      <td>0</td>\n",
       "    </tr>\n",
       "    <tr>\n",
       "      <th>5</th>\n",
       "      <td>snake</td>\n",
       "      <td>5</td>\n",
       "    </tr>\n",
       "  </tbody>\n",
       "</table>\n",
       "</div>"
      ],
      "text/plain": [
       "  str_feature  int_feature\n",
       "0         cat            0\n",
       "5       snake            5"
      ]
     },
     "execution_count": 15,
     "metadata": {},
     "output_type": "execute_result"
    }
   ],
   "source": [
    "df.iloc[[0,5]]"
   ]
  },
  {
   "cell_type": "code",
   "execution_count": 16,
   "id": "5e035da1",
   "metadata": {},
   "outputs": [
    {
     "data": {
      "text/plain": [
       "'cat'"
      ]
     },
     "execution_count": 16,
     "metadata": {},
     "output_type": "execute_result"
    }
   ],
   "source": [
    "# .at and .iat are used similarly to .loc and .iloc but they can't retrieve more than one observation.\n",
    "df.at[0, 'str_feature']"
   ]
  },
  {
   "cell_type": "code",
   "execution_count": 17,
   "id": "c560893e",
   "metadata": {},
   "outputs": [
    {
     "data": {
      "text/html": [
       "<div>\n",
       "<style scoped>\n",
       "    .dataframe tbody tr th:only-of-type {\n",
       "        vertical-align: middle;\n",
       "    }\n",
       "\n",
       "    .dataframe tbody tr th {\n",
       "        vertical-align: top;\n",
       "    }\n",
       "\n",
       "    .dataframe thead th {\n",
       "        text-align: right;\n",
       "    }\n",
       "</style>\n",
       "<table border=\"1\" class=\"dataframe\">\n",
       "  <thead>\n",
       "    <tr style=\"text-align: right;\">\n",
       "      <th></th>\n",
       "      <th>str_feature</th>\n",
       "      <th>int_feature</th>\n",
       "    </tr>\n",
       "  </thead>\n",
       "  <tbody>\n",
       "    <tr>\n",
       "      <th>0</th>\n",
       "      <td>cat</td>\n",
       "      <td>0</td>\n",
       "    </tr>\n",
       "    <tr>\n",
       "      <th>2</th>\n",
       "      <td>cat</td>\n",
       "      <td>2</td>\n",
       "    </tr>\n",
       "    <tr>\n",
       "      <th>7</th>\n",
       "      <td>cat</td>\n",
       "      <td>7</td>\n",
       "    </tr>\n",
       "    <tr>\n",
       "      <th>10</th>\n",
       "      <td>cat</td>\n",
       "      <td>10</td>\n",
       "    </tr>\n",
       "    <tr>\n",
       "      <th>12</th>\n",
       "      <td>cat</td>\n",
       "      <td>12</td>\n",
       "    </tr>\n",
       "  </tbody>\n",
       "</table>\n",
       "</div>"
      ],
      "text/plain": [
       "   str_feature  int_feature\n",
       "0          cat            0\n",
       "2          cat            2\n",
       "7          cat            7\n",
       "10         cat           10\n",
       "12         cat           12"
      ]
     },
     "execution_count": 17,
     "metadata": {},
     "output_type": "execute_result"
    }
   ],
   "source": [
    "df = df[df.loc[:, 'str_feature'] == 'cat']\n",
    "df.head()"
   ]
  },
  {
   "cell_type": "code",
   "execution_count": 19,
   "id": "a9788df8",
   "metadata": {},
   "outputs": [
    {
     "data": {
      "text/html": [
       "<div>\n",
       "<style scoped>\n",
       "    .dataframe tbody tr th:only-of-type {\n",
       "        vertical-align: middle;\n",
       "    }\n",
       "\n",
       "    .dataframe tbody tr th {\n",
       "        vertical-align: top;\n",
       "    }\n",
       "\n",
       "    .dataframe thead th {\n",
       "        text-align: right;\n",
       "    }\n",
       "</style>\n",
       "<table border=\"1\" class=\"dataframe\">\n",
       "  <thead>\n",
       "    <tr style=\"text-align: right;\">\n",
       "      <th></th>\n",
       "      <th>int_feature</th>\n",
       "    </tr>\n",
       "    <tr>\n",
       "      <th>str_feature</th>\n",
       "      <th></th>\n",
       "    </tr>\n",
       "  </thead>\n",
       "  <tbody>\n",
       "    <tr>\n",
       "      <th>cat</th>\n",
       "      <td>16742110</td>\n",
       "    </tr>\n",
       "  </tbody>\n",
       "</table>\n",
       "</div>"
      ],
      "text/plain": [
       "             int_feature\n",
       "str_feature             \n",
       "cat             16742110"
      ]
     },
     "execution_count": 19,
     "metadata": {},
     "output_type": "execute_result"
    }
   ],
   "source": [
    "df.groupby('str_feature').sum()"
   ]
  },
  {
   "cell_type": "code",
   "execution_count": 23,
   "id": "f3d9b308",
   "metadata": {},
   "outputs": [
    {
     "name": "stdout",
     "output_type": "stream",
     "text": [
      "     Name subject_id  Marks_scored\n",
      "1    Alex       sub1            98\n",
      "2     Amy       sub2            90\n",
      "3   Allen       sub4            87\n",
      "4   Alice       sub6            69\n",
      "5  Ayoung       sub5            78\n",
      "1   Billy       sub2            89\n",
      "2   Brian       sub4            80\n",
      "3    Bran       sub3            79\n",
      "4   Bryce       sub6            97\n",
      "5   Betty       sub5            88\n"
     ]
    }
   ],
   "source": [
    "import pandas as pd\n",
    "one = pd.DataFrame({\n",
    "         'Name': ['Alex', 'Amy', 'Allen', 'Alice', 'Ayoung'],\n",
    "         'subject_id':['sub1','sub2','sub4','sub6','sub5'],\n",
    "         'Marks_scored':[98,90,87,69,78]},\n",
    "         index=[1,2,3,4,5])\n",
    "two = pd.DataFrame({\n",
    "         'Name': ['Billy', 'Brian', 'Bran', 'Bryce', 'Betty'],\n",
    "         'subject_id':['sub2','sub4','sub3','sub6','sub5'],\n",
    "         'Marks_scored':[89,80,79,97,88]},\n",
    "         index=[1,2,3,4,5])\n",
    "print(pd.concat([one,two]))"
   ]
  },
  {
   "cell_type": "markdown",
   "id": "5b80d4b4",
   "metadata": {},
   "source": [
    "# THANK YOU\n",
    "\n",
    "# REFERENCE:- GFG"
   ]
  }
 ],
 "metadata": {
  "kernelspec": {
   "display_name": "Python 3 (ipykernel)",
   "language": "python",
   "name": "python3"
  },
  "language_info": {
   "codemirror_mode": {
    "name": "ipython",
    "version": 3
   },
   "file_extension": ".py",
   "mimetype": "text/x-python",
   "name": "python",
   "nbconvert_exporter": "python",
   "pygments_lexer": "ipython3",
   "version": "3.9.12"
  }
 },
 "nbformat": 4,
 "nbformat_minor": 5
}
